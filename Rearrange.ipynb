{
 "cells": [
  {
   "cell_type": "code",
   "execution_count": 2,
   "metadata": {},
   "outputs": [
    {
     "name": "stdout",
     "output_type": "stream",
     "text": [
      "Collecting PyPDF2\n",
      "\u001b[?25l  Downloading https://files.pythonhosted.org/packages/b4/01/68fcc0d43daf4c6bdbc6b33cc3f77bda531c86b174cac56ef0ffdb96faab/PyPDF2-1.26.0.tar.gz (77kB)\n",
      "\u001b[K     |████████████████████████████████| 81kB 62kB/s eta 0:00:011\n",
      "\u001b[?25hBuilding wheels for collected packages: PyPDF2\n",
      "  Building wheel for PyPDF2 (setup.py) ... \u001b[?25ldone\n",
      "\u001b[?25h  Created wheel for PyPDF2: filename=PyPDF2-1.26.0-cp36-none-any.whl size=61086 sha256=a6341db5445ee1315289508023923da51fde415c1dac3b280fbf5f9f9b414b1b\n",
      "  Stored in directory: /home/jovyan/.cache/pip/wheels/53/84/19/35bc977c8bf5f0c23a8a011aa958acd4da4bbd7a229315c1b7\n",
      "Successfully built PyPDF2\n",
      "Installing collected packages: PyPDF2\n",
      "Successfully installed PyPDF2-1.26.0\n"
     ]
    }
   ],
   "source": [
    "#incase any Error in Pypdf2: \"!pip install PyPDF2\"\n",
    "from PyPDF2 import PdfFileWriter, PdfFileReader"
   ]
  },
  {
   "cell_type": "code",
   "execution_count": 3,
   "metadata": {},
   "outputs": [],
   "source": [
    "def bookmark_dict(bookmark_list):\n",
    "    \"\"\" Used to get the bookmarks form the pdf\"\"\"\n",
    "    result = {}\n",
    "    for item in bookmark_list:\n",
    "        if isinstance(item, list):\n",
    "            # recursive call\n",
    "            result.update(bookmark_dict(item))\n",
    "        else:\n",
    "            result[reader.getDestinationPageNumber(item)] = item.title\n",
    "    return result"
   ]
  },
  {
   "cell_type": "code",
   "execution_count": null,
   "metadata": {},
   "outputs": [],
   "source": [
    "print(\"Enter path to File(Example:: C:/User/Documents/)\\n make sure it ends with /:\",end='')\n",
    "pa=input()\n",
    "print(\"Enter the PDF file name(Example:: CROVAS.pdf):\",end='')\n",
    "th=input()\n",
    "path = pa+th\n",
    "writer = PdfFileWriter()\n",
    "reader = PdfFileReader(path)\n",
    "\n",
    "BookMarks = bookmark_dict(reader.getOutlines())\n",
    "Total_Number_pages = reader.getNumPages()\n",
    "\n",
    "Bname = \"\""
   ]
  },
  {
   "cell_type": "code",
   "execution_count": 4,
   "metadata": {},
   "outputs": [
    {
     "ename": "NameError",
     "evalue": "name 'BookMarks' is not defined",
     "output_type": "error",
     "traceback": [
      "\u001b[0;31m---------------------------------------------------------------------------\u001b[0m",
      "\u001b[0;31mNameError\u001b[0m                                 Traceback (most recent call last)",
      "\u001b[0;32m<ipython-input-4-9ef02a923e1d>\u001b[0m in \u001b[0;36m<module>\u001b[0;34m\u001b[0m\n\u001b[0;32m----> 1\u001b[0;31m \u001b[0;32mfor\u001b[0m \u001b[0mi\u001b[0m \u001b[0;32min\u001b[0m \u001b[0mBookMarks\u001b[0m\u001b[0;34m.\u001b[0m\u001b[0mkeys\u001b[0m\u001b[0;34m(\u001b[0m\u001b[0;34m)\u001b[0m\u001b[0;34m:\u001b[0m\u001b[0;34m\u001b[0m\u001b[0;34m\u001b[0m\u001b[0m\n\u001b[0m\u001b[1;32m      2\u001b[0m     \u001b[0mBname\u001b[0m \u001b[0;34m=\u001b[0m \u001b[0mstr\u001b[0m\u001b[0;34m(\u001b[0m\u001b[0mBookMarks\u001b[0m\u001b[0;34m[\u001b[0m\u001b[0mi\u001b[0m\u001b[0;34m]\u001b[0m\u001b[0;34m)\u001b[0m\u001b[0;34m\u001b[0m\u001b[0;34m\u001b[0m\u001b[0m\n\u001b[1;32m      3\u001b[0m     \u001b[0mBname\u001b[0m \u001b[0;34m=\u001b[0m \u001b[0mBname\u001b[0m\u001b[0;34m.\u001b[0m\u001b[0mreplace\u001b[0m\u001b[0;34m(\u001b[0m\u001b[0;34m\"b'\"\u001b[0m\u001b[0;34m,\u001b[0m\u001b[0;34m\"\"\u001b[0m\u001b[0;34m)\u001b[0m\u001b[0;34m\u001b[0m\u001b[0;34m\u001b[0m\u001b[0m\n\u001b[1;32m      4\u001b[0m     \u001b[0mBname\u001b[0m \u001b[0;34m=\u001b[0m \u001b[0mBname\u001b[0m\u001b[0;34m.\u001b[0m\u001b[0mreplace\u001b[0m\u001b[0;34m(\u001b[0m\u001b[0;34mr\"\\r'\"\u001b[0m\u001b[0;34m,\u001b[0m\u001b[0;34m\"\"\u001b[0m\u001b[0;34m)\u001b[0m\u001b[0;34m\u001b[0m\u001b[0;34m\u001b[0m\u001b[0m\n\u001b[1;32m      5\u001b[0m     \u001b[0mBname\u001b[0m \u001b[0;34m=\u001b[0m \u001b[0mBname\u001b[0m\u001b[0;34m.\u001b[0m\u001b[0mreplace\u001b[0m\u001b[0;34m(\u001b[0m\u001b[0;34m\"&\"\u001b[0m\u001b[0;34m,\u001b[0m\u001b[0;34m\"AND\"\u001b[0m\u001b[0;34m)\u001b[0m\u001b[0;34m\u001b[0m\u001b[0;34m\u001b[0m\u001b[0m\n",
      "\u001b[0;31mNameError\u001b[0m: name 'BookMarks' is not defined"
     ]
    }
   ],
   "source": [
    "for i in BookMarks.keys():\n",
    "    Bname = str(BookMarks[i])\n",
    "    Bname = Bname.replace(\"b'\",\"\")\n",
    "    Bname = Bname.replace(r\"\\r'\",\"\")\n",
    "    Bname = Bname.replace(\"&\",\"AND\")\n",
    "    BookMarks[i] = Bname"
   ]
  },
  {
   "cell_type": "code",
   "execution_count": null,
   "metadata": {},
   "outputs": [],
   "source": [
    "j = 0\n",
    "ListOfList = []\n",
    "Total_Number_Pages = reader.getNumPages()\n",
    "for i in range(0,Total_Number_Pages+1):\n",
    "    if i+1 in BookMarks.keys():\n",
    "        print(\"Start Page:{} \\tDocument:{} \\tEnd Page:{}\".format(j+1,BookMarks[j],i+1))\n",
    "        temp=[]\n",
    "        temp.append(j)\n",
    "        temp.append(BookMarks[j])\n",
    "        temp.append(i)\n",
    "        ListOfList.append(temp)\n",
    "        j=i+1\n",
    "print(\"Start Page:{} \\tDocument:{} \\tEnd Page:{}\".format(j+1,BookMarks[j],i))\n",
    "temp=[]\n",
    "temp.append(j)\n",
    "temp.append(BookMarks[j])\n",
    "temp.append(i-1)\n",
    "ListOfList.append(temp)\n",
    "\n",
    "\n",
    "oppath = r\"{}BookMarks.txt\".format(pa)\n",
    "f=open(oppath,\"w\")"
   ]
  },
  {
   "cell_type": "code",
   "execution_count": null,
   "metadata": {},
   "outputs": [],
   "source": [
    "for i in ListOfList:\n",
    "    string_to_p = \"{}\\n\".format(i[1])\n",
    "    f.writelines(string_to_p)\n",
    "f.close()\n",
    "\n",
    "print(\"A new file known as Bookmarks.txt is now created in {}\\n got to there to view it\".format(pa))\n",
    "\n",
    "print(\"\\n\\nNow you must Make a new text file called NewBookMarks.txt at {}\\n\".format(pa),\n",
    "      \"Now Rearrange the bookmarks from Bookmarks.txt and paste in NewBookMarks file however you like\\n\"\n",
    "      \"then press Y ::\")\n",
    "a=input()"
   ]
  },
  {
   "cell_type": "code",
   "execution_count": null,
   "metadata": {},
   "outputs": [],
   "source": [
    "if a.upper() == 'Y':\n",
    "    oppath = r\"{}NewBookMarks.txt\".format(pa)\n",
    "    Nf = open(oppath,\"r\")\n",
    "    Entire = Nf.read()\n",
    "    Entire = Entire.replace(\"++\",\"\")\n",
    "    Entire=Entire.split(\"\\n\")\n",
    "    cnt=len(ListOfList)\n",
    "    pg=0\n",
    "    opg=0\n",
    "    inc=1\n",
    "    for i in range(len(Entire)):\n",
    "        print(\"{}. For {}\".format(inc,Entire[i]))\n",
    "        inc=inc+1\n",
    "        j = 0\n",
    "        while j<cnt:\n",
    "            if Entire[i] == ListOfList[j][1]:\n",
    "                lb=ListOfList[j][0]\n",
    "                ub=ListOfList[j][2]\n",
    "                opg=pg\n",
    "                print(\"\\t\\t{}- {} --> {} at {}\".format(lb,ub,ListOfList[j][1],opg))\n",
    "                for k in range(lb,ub+1):\n",
    "                    writer.addPage(reader.getPage(k))\n",
    "                    pg = pg+1\n",
    "                writer.addBookmark(title=str(ListOfList[j][1]),pagenum=opg,parent=None)\n",
    "                ListOfList.pop(j)\n",
    "                cnt = cnt-1\n",
    "                break\n",
    "            j=j+1\n",
    "    print(\"Write New Pdf File Name(Example: Result.pdf)\\n::\")\n",
    "    output_name=input()\n",
    "    output_name=pa+output_name\n",
    "\n",
    "    with open(output_name,\"wb\") as out:\n",
    "        writer.write(out)"
   ]
  }
 ],
 "metadata": {
  "kernelspec": {
   "display_name": "Python 3",
   "language": "python",
   "name": "python3"
  },
  "language_info": {
   "codemirror_mode": {
    "name": "ipython",
    "version": 3
   },
   "file_extension": ".py",
   "mimetype": "text/x-python",
   "name": "python",
   "nbconvert_exporter": "python",
   "pygments_lexer": "ipython3",
   "version": "3.6.7"
  }
 },
 "nbformat": 4,
 "nbformat_minor": 2
}
